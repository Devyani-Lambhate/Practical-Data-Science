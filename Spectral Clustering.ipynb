{
 "cells": [
  {
   "cell_type": "code",
   "execution_count": 43,
   "metadata": {},
   "outputs": [
    {
     "name": "stdout",
     "output_type": "stream",
     "text": [
      "[-0.47740132 -0.52006071 -0.02936759 ...  0.          0.\n",
      "  0.        ]\n"
     ]
    },
    {
     "data": {
      "text/plain": [
       "<matplotlib.collections.PathCollection at 0x7f4636596850>"
      ]
     },
     "execution_count": 43,
     "metadata": {},
     "output_type": "execute_result"
    },
    {
     "data": {
      "image/png": "[encoded data removed]",
      "text/plain": [
       "<Figure size 432x288 with 1 Axes>"
      ]
     },
     "metadata": {
      "needs_background": "light"
     },
     "output_type": "display_data"
    }
   ],
   "source": [
    "import random\n",
    "import numpy as np\n",
    "from numpy import linalg as la\n",
    "import math\n",
    "import random\n",
    "from matplotlib import pyplot as plt\n",
    "from numpy import linalg as LA\n",
    "from matplotlib import pyplot as plt \n",
    "n=50\n",
    "def dist(a,b):\n",
    "    t=((a[0]-b[0])*(a[0]-b[0])+(a[1]-b[1])*(a[1]-b[1]))\n",
    "    return math.sqrt(t)\n",
    "\n",
    "\n",
    "data=np.random.rand(n,2)\n",
    "\n",
    "distance=[[0 for i in range(n*n)] for j in range(n*n)]\n",
    "\n",
    "for i in range(n):\n",
    "    for j in range(n):\n",
    "        distance[i][j]=dist(data[i],data[j])\n",
    "        \n",
    "#print(distance)\n",
    "distance=np.array(distance)\n",
    "degree=distance.sum(axis=1)\n",
    "degree=np.diag(degree)\n",
    "#print(degree)\n",
    "\n",
    "eigenval,eigvector = LA.eig(distance-degree)\n",
    "#print(eigvector)\n",
    "res=eigvector[:,1]\n",
    "print(res)\n",
    "cluster0=[]\n",
    "cluster1=[]\n",
    "for i in range(n):\n",
    "    if(res[i]>0):\n",
    "      cluster0.append(data[i])\n",
    "    else:\n",
    "      cluster1.append(data[i])\n",
    "        \n",
    "\n",
    "cluster0=np.array(cluster0).T\n",
    "cluster1=np.array(cluster1).T\n",
    "fig=plt.figure()\n",
    "ax=fig.add_axes([0,0,1,1])\n",
    "ax.scatter(cluster0[0],cluster0[1], color='r',alpha=0.3)\n",
    "ax.scatter(cluster1[0],cluster1[1], color='b',alpha=0.3)\n",
    "\n",
    "\n",
    "\n"
   ]
  },
  {
   "cell_type": "code",
   "execution_count": null,
   "metadata": {},
   "outputs": [],
   "source": []
  },
  {
   "cell_type": "code",
   "execution_count": null,
   "metadata": {},
   "outputs": [],
   "source": []
  },
  {
   "cell_type": "code",
   "execution_count": null,
   "metadata": {},
   "outputs": [],
   "source": []
  }
 ],
 "metadata": {
  "kernelspec": {
   "display_name": "Python 3",
   "language": "python",
   "name": "python3"
  },
  "language_info": {
   "codemirror_mode": {
    "name": "ipython",
    "version": 3
   },
   "file_extension": ".py",
   "mimetype": "text/x-python",
   "name": "python",
   "nbconvert_exporter": "python",
   "pygments_lexer": "ipython3",
   "version": "3.7.4"
  }
 },
 "nbformat": 4,
 "nbformat_minor": 2
}
