{
 "cells": [
  {
   "cell_type": "code",
   "execution_count": 1,
   "metadata": {},
   "outputs": [
    {
     "data": {
      "text/plain": [
       "<Figure size 640x480 with 1 Axes>"
      ]
     },
     "metadata": {},
     "output_type": "display_data"
    },
    {
     "name": "stdout",
     "output_type": "stream",
     "text": [
      "(20,)\n",
      "(20, 225)\n"
     ]
    },
    {
     "data": {
      "text/plain": [
       "<Figure size 640x480 with 1 Axes>"
      ]
     },
     "metadata": {},
     "output_type": "display_data"
    },
    {
     "name": "stdout",
     "output_type": "stream",
     "text": [
      "[[ 1.91355744e-04  1.91355744e-04  1.91355744e-04 ...  2.79460652e-04\n",
      "   2.79460652e-04  2.79460652e-04]\n",
      " [ 1.91355744e-04  1.91355744e-04  1.91355744e-04 ...  2.79460652e-04\n",
      "   2.79460652e-04  2.79460652e-04]\n",
      " [ 1.91355744e-04  1.91355744e-04  1.91355744e-04 ...  2.79460652e-04\n",
      "   2.79460652e-04  2.79460652e-04]\n",
      " ...\n",
      " [-5.90240084e-04 -5.90240084e-04 -5.90240084e-04 ... -3.12309620e-05\n",
      "  -3.12309620e-05 -3.12309620e-05]\n",
      " [-6.54268746e-04 -6.54268746e-04 -6.54268746e-04 ... -9.29527473e-05\n",
      "  -9.29527473e-05 -9.29527473e-05]\n",
      " [ 2.81731060e-03  2.81731060e-03  2.81731060e-03 ... -4.44239193e-03\n",
      "  -4.44239193e-03 -4.44239193e-03]]\n"
     ]
    }
   ],
   "source": [
    "import matplotlib.pyplot as plt\n",
    "import matplotlib.image as im\n",
    "from sklearn.decomposition import TruncatedSVD\n",
    "from skimage import color\n",
    "from skimage import io\n",
    "import numpy as np\n",
    "\n",
    "\n",
    "img = color.rgb2gray(io.imread('/home/devyani/Desktop/papers/rose_test.jpeg'))\n",
    "plt.imshow(img,cmap='gray')\n",
    "plt.show()\n",
    "\n",
    "\n",
    "U, s, V = np.linalg.svd(img)\n",
    "#print(U.shape)\n",
    "#print(np.diag(s).shape)\n",
    "#print(V.shape)\n",
    "\n",
    "k=20\n",
    "U1=U[:,:k]\n",
    "#print(U1.shape)\n",
    "s1=s[0:k]\n",
    "print(s1.shape)\n",
    "V1=V[:k,:]\n",
    "print(V1.shape)\n",
    "\n",
    "img1= np.dot(np.dot(U1,np.diag(s1)),V1)\n",
    "plt.imshow(img1,cmap='gray')\n",
    "plt.show()\n",
    "print(img1-img)"
   ]
  },
  {
   "cell_type": "code",
   "execution_count": 2,
   "metadata": {},
   "outputs": [
    {
     "name": "stdout",
     "output_type": "stream",
     "text": [
      "[[1. 0.]\n",
      " [0. 1.]]\n",
      "[[2 0]\n",
      " [0 2]]\n",
      "[[ 0.70710678  0.          0.70710678  0.        ]\n",
      " [ 0.          0.70710678  0.          0.70710678]\n",
      " [-0.70710678  0.          0.70710678  0.        ]\n",
      " [ 0.         -0.70710678  0.          0.70710678]]\n"
     ]
    }
   ],
   "source": [
    "X=np.array([[1 ,0 ,1, 0],[0 ,1, 0, 1]])\n",
    "U, s, V = np.linalg.svd(X)\n",
    "print(U)\n",
    "print(np.dot(X,X.T))\n",
    "print(V)\n",
    "\n"
   ]
  },
  {
   "cell_type": "code",
   "execution_count": null,
   "metadata": {},
   "outputs": [],
   "source": []
  }
 ],
 "metadata": {
  "kernelspec": {
   "display_name": "Python 3",
   "language": "python",
   "name": "python3"
  },
  "language_info": {
   "codemirror_mode": {
    "name": "ipython",
    "version": 3
   },
   "file_extension": ".py",
   "mimetype": "text/x-python",
   "name": "python",
   "nbconvert_exporter": "python",
   "pygments_lexer": "ipython3",
   "version": "3.7.4"
  }
 },
 "nbformat": 4,
 "nbformat_minor": 2
}
