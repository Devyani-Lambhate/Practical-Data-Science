{
 "cells": [
  {
   "cell_type": "code",
   "execution_count": 127,
   "metadata": {},
   "outputs": [
    {
     "name": "stdout",
     "output_type": "stream",
     "text": [
      "(67, 2)\n"
     ]
    },
    {
     "data": {
      "image/png": "[encoded data removed]",
      "text/plain": [
       "<Figure size 432x288 with 1 Axes>"
      ]
     },
     "metadata": {
      "needs_background": "light"
     },
     "output_type": "display_data"
    }
   ],
   "source": [
    "import random\n",
    "import numpy as np\n",
    "from numpy import linalg as la\n",
    "import math\n",
    "import random\n",
    "from matplotlib import pyplot as plt\n",
    "def dist(a,b):\n",
    "    t=((a[0]-b[0])*(a[0]-b[0])+(a[1]-b[1])*(a[1]-b[1]))\n",
    "    return math.sqrt(t)\n",
    "\n",
    "mean=np.random.rand(3,2)\n",
    "\n",
    "\n",
    "data=np.random.rand(100,2)\n",
    "\n",
    "\n",
    "label=np.zeros((100))\n",
    "for i in range(100):\n",
    "    label[i]=random.randint(0,2)\n",
    "    \n",
    "#print(data)\n",
    "#print(label)\n",
    "tol=0.0001\n",
    "mean1=np.random.rand(3,2)\n",
    "while(la.norm(mean-mean1)>tol):\n",
    "        mean=mean1\n",
    "        for i in range(data.shape[0]):\n",
    "            dis=dist(data[i],mean[0])\n",
    "            for j in range(mean.shape[0]):\n",
    "                if(dist(data[i],mean[j])<dis):\n",
    "                  label[i]=j\n",
    "\n",
    "        #print(label)\n",
    "\n",
    "        c=[0,0,0]\n",
    "        #mean1=np.zeros([3,2])\n",
    "        for i in range(mean.shape[0]):\n",
    "            for j in range(data.shape[0]):\n",
    "                if(label[j]==i):\n",
    "                    mean1[i][0]+=data[j][0]\n",
    "                    mean1[i][1]+=data[j][1]\n",
    "                    c[i]+=1\n",
    "            mean1[i]=mean1[i]/c[i]\n",
    "\n",
    "        #print(mean1)\n",
    "\n",
    "\n",
    "        \n",
    "data1=[]\n",
    "data2=[]\n",
    "data3=[]\n",
    "\n",
    "for i in range(data.shape[0]):\n",
    "    if(label[i]==0):\n",
    "       data1.append(data[i])\n",
    "\n",
    "    elif(label[i]==1):\n",
    "       data2.append(data[i])\n",
    "    elif(label[i]==2):\n",
    "       data3.append(data[i])\n",
    "       \n",
    "\n",
    "data1=np.array(data1)\n",
    "data2=np.array(data2)\n",
    "data3=np.array(data3)\n",
    "\n",
    "\n",
    "print(data3.shape)\n",
    "fig=plt.figure()\n",
    "ax=fig.add_axes([0,0,1,1])\n",
    "ax.scatter(data1[:,0],data1[:,1], color='r',alpha=0.3)\n",
    "ax.scatter(data2[:,0],data2[:,1], color='b',alpha=0.3)\n",
    "ax.scatter(data3[:,0],data3[:,1], color='g',alpha=0.3)\n",
    "ax.scatter(mean[0,0],mean[0,1], color='r')\n",
    "ax.scatter(mean[1,0],mean[1,1], color='b')\n",
    "ax.scatter(mean[2,0],mean[2,1], color='g')\n",
    "\n",
    "\n",
    "\n",
    "ax.set_xlabel('Grades Range')\n",
    "ax.set_ylabel('Grades Scored')\n",
    "ax.set_title('scatter plot')\n",
    "plt.show()\n",
    "\n",
    "\n",
    "\n"
   ]
  },
  {
   "cell_type": "code",
   "execution_count": null,
   "metadata": {},
   "outputs": [],
   "source": []
  },
  {
   "cell_type": "code",
   "execution_count": null,
   "metadata": {},
   "outputs": [],
   "source": []
  },
  {
   "cell_type": "code",
   "execution_count": null,
   "metadata": {},
   "outputs": [],
   "source": []
  },
  {
   "cell_type": "code",
   "execution_count": null,
   "metadata": {},
   "outputs": [],
   "source": []
  },
  {
   "cell_type": "code",
   "execution_count": null,
   "metadata": {},
   "outputs": [],
   "source": []
  }
 ],
 "metadata": {
  "kernelspec": {
   "display_name": "Python 3",
   "language": "python",
   "name": "python3"
  },
  "language_info": {
   "codemirror_mode": {
    "name": "ipython",
    "version": 3
   },
   "file_extension": ".py",
   "mimetype": "text/x-python",
   "name": "python",
   "nbconvert_exporter": "python",
   "pygments_lexer": "ipython3",
   "version": "3.7.4"
  }
 },
 "nbformat": 4,
 "nbformat_minor": 2
}
